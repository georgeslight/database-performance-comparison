{
 "cells": [
  {
   "metadata": {
    "ExecuteTime": {
     "end_time": "2024-12-12T16:40:50.981968Z",
     "start_time": "2024-12-12T16:40:50.847285Z"
    }
   },
   "cell_type": "code",
   "source": [
    "import importlib\n",
    "import os\n",
    "import time\n",
    "\n",
    "import pandas as pd\n",
    "from dotenv import load_dotenv\n",
    "\n",
    "import database\n",
    "importlib.reload(database)\n",
    "from database import Database\n",
    "\n",
    "puenkt_csv = 'data/puenkt.csv'\n",
    "load_dotenv()\n"
   ],
   "id": "89c7e7dd1b353b4e",
   "outputs": [
    {
     "data": {
      "text/plain": [
       "True"
      ]
     },
     "execution_count": 89,
     "metadata": {},
     "output_type": "execute_result"
    }
   ],
   "execution_count": 89
  },
  {
   "metadata": {},
   "cell_type": "markdown",
   "source": "### Fetch puenkt data",
   "id": "330aaedc088edb62"
  },
  {
   "metadata": {
    "ExecuteTime": {
     "end_time": "2024-12-11T13:45:45.914969Z",
     "start_time": "2024-12-11T13:26:48.071954Z"
    }
   },
   "cell_type": "code",
   "source": [
    "import csv\n",
    "\n",
    "QDABABAV_POSTGRES_CONFIG = {\n",
    "    'dbname': os.getenv('QDABABAV_POSTGRES_DBNAME'),\n",
    "    'user': os.getenv('QDABABAV_POSTGRES_USER'),\n",
    "    'password': os.getenv('QDABABAV_POSTGRES_PASSWORD'),\n",
    "    'host': os.getenv('QDABABAV_POSTGRES_HOST'),\n",
    "    'port': int(os.getenv('QDABABAV_POSTGRES_PORT'))\n",
    "}\n",
    "\n",
    "qdaba = Database(QDABABAV_POSTGRES_CONFIG, 'postgres')\n",
    "qdaba.connect()\n",
    "qdabaconn = qdaba.connection.cursor()\n",
    "\n",
    "get_puenkt_query =  \"SELECT * FROM qdababav.puenkt WHERE id_mvu = 'SBB' AND soll_bav > '2024-01-01' LIMIT 50000;\"\n",
    "qdabaconn.execute(get_puenkt_query)\n",
    "results = qdabaconn.fetchall()\n",
    "\n",
    "with open(f\"./{puenkt_csv}\", mode='w', newline='', encoding='utf-8') as file:\n",
    "    writer = csv.writer(file)\n",
    "\n",
    "    # Write the column headers\n",
    "    column_headers = [desc[0] for desc in qdabaconn.description]\n",
    "    writer.writerow(column_headers)\n",
    "\n",
    "    # Write the rows\n",
    "    writer.writerows(results)\n",
    "\n",
    "print(f\"Filtered data saved to ./{puenkt_csv}\")\n"
   ],
   "id": "64717129a4291202",
   "outputs": [
    {
     "name": "stdout",
     "output_type": "stream",
     "text": [
      "Connected to Postgres\n",
      "Filtered data saved to ./data/puenkt.csv\n"
     ]
    }
   ],
   "execution_count": 41
  },
  {
   "metadata": {},
   "cell_type": "markdown",
   "source": "### Postgres",
   "id": "727280a01064540c"
  },
  {
   "metadata": {},
   "cell_type": "markdown",
   "source": "#### Connect to Postgres Database",
   "id": "dacb8c7d474de431"
  },
  {
   "metadata": {
    "ExecuteTime": {
     "end_time": "2024-12-12T16:40:53.756610Z",
     "start_time": "2024-12-12T16:40:53.691530Z"
    }
   },
   "cell_type": "code",
   "source": [
    "POSTGRES_CONFIG = {\n",
    "    'dbname': os.getenv('POSTGRES_DBNAME'),\n",
    "    'user': os.getenv('POSTGRES_USER'),\n",
    "    'password': os.getenv('POSTGRES_PASSWORD'),\n",
    "    'host': os.getenv('POSTGRES_HOST'),\n",
    "    'port': int(os.getenv('POSTGRES_PORT'))\n",
    "}\n",
    "\n",
    "postgres = Database(POSTGRES_CONFIG, 'postgres')\n",
    "postgres.connect()\n",
    "pgconn = postgres.connection.cursor()"
   ],
   "id": "9b21919afba3132e",
   "outputs": [
    {
     "name": "stdout",
     "output_type": "stream",
     "text": [
      "Connected to Postgres\n"
     ]
    }
   ],
   "execution_count": 90
  },
  {
   "metadata": {},
   "cell_type": "markdown",
   "source": "#### Load Data into Postgres DB",
   "id": "5309621b30cdba8f"
  },
  {
   "metadata": {},
   "cell_type": "code",
   "source": [
    "ddl_file = open('./data/puenkt_ddl.sql', 'r')\n",
    "with pgconn as conn:\n",
    "    create_schema = \"CREATE SCHEMA IF NOT EXISTS qdaba;\"\n",
    "    create_table = ddl_file.read()\n",
    "    conn.execute(create_schema)\n",
    "    conn.execute(create_table)\n",
    "    result = conn.copy_expert(f\"COPY qdaba.puenkt FROM STDIN WITH (FORMAT CSV, HEADER TRUE);\", open(f\"./{puenkt_csv}\", 'r', encoding='utf-8'))\n",
    "    postgres.connection.commit()"
   ],
   "id": "4eb546119c901d64",
   "outputs": [],
   "execution_count": null
  },
  {
   "metadata": {},
   "cell_type": "markdown",
   "source": "",
   "id": "e8189d3e3cbc9378"
  },
  {
   "metadata": {
    "ExecuteTime": {
     "end_time": "2024-12-12T16:25:27.098839Z",
     "start_time": "2024-12-12T16:25:26.973745Z"
    }
   },
   "cell_type": "code",
   "source": [
    "sql_file_path = './data/puenktlichkeit.sql'\n",
    "\n",
    "postgres.connect()\n",
    "pgconn = postgres.connection.cursor()\n",
    "with pgconn as conn:\n",
    "    try:\n",
    "        with open(sql_file_path, 'r') as file:\n",
    "            query = file.read()\n",
    "\n",
    "        # Measure the execution time\n",
    "        start_time = time.time()\n",
    "        conn.execute(query)\n",
    "        results = conn.fetchall()\n",
    "        end_time = time.time()\n",
    "\n",
    "        # Compute the execution time\n",
    "        execution_time = end_time - start_time\n",
    "        print(f\"Query executed in {execution_time:.6f} seconds.\")\n",
    "\n",
    "        # Print the number of results and first few rows (optional)\n",
    "        print(f\"Number of results: {len(results)}\")\n",
    "    except Exception as e:\n",
    "        print(f\"Error executing query: {e}\")\n"
   ],
   "id": "d29560e303557fd4",
   "outputs": [
    {
     "name": "stdout",
     "output_type": "stream",
     "text": [
      "Connected to Postgres\n",
      "Query executed in 0.074382 seconds.\n",
      "Number of results: 3068\n"
     ]
    }
   ],
   "execution_count": 85
  },
  {
   "metadata": {},
   "cell_type": "markdown",
   "source": "### DuckDB",
   "id": "bc9e4205ff0539e6"
  },
  {
   "metadata": {},
   "cell_type": "markdown",
   "source": "#### Connect to DuckDB Database",
   "id": "35e1bdc8bdf1155a"
  },
  {
   "metadata": {
    "ExecuteTime": {
     "end_time": "2024-12-12T14:15:25.105069Z",
     "start_time": "2024-12-12T14:15:25.055060Z"
    }
   },
   "cell_type": "code",
   "source": [
    "DUCKDB_CONFIG = {\"filepath\": \"./data/duck.db\"}\n",
    "duck = Database(DUCKDB_CONFIG, 'duckdb')\n",
    "duck.connect()\n",
    "ddbconn = duck.connection"
   ],
   "id": "6f141d806418d270",
   "outputs": [
    {
     "name": "stdout",
     "output_type": "stream",
     "text": [
      "Connected to DuckDB at ./data/duck.db\n"
     ]
    }
   ],
   "execution_count": 4
  },
  {
   "metadata": {},
   "cell_type": "markdown",
   "source": "#### Load Data into DuckDb",
   "id": "257d62d572c1d595"
  },
  {
   "metadata": {
    "ExecuteTime": {
     "end_time": "2024-12-11T14:35:01.567297Z",
     "start_time": "2024-12-11T14:35:00.952904Z"
    }
   },
   "cell_type": "code",
   "source": [
    "with ddbconn as conn:\n",
    "    create_schema = \"CREATE SCHEMA IF NOT EXISTS qdaba;\"\n",
    "    create_table = f\"CREATE TABLE IF NOT EXISTS qdaba.puenkt AS FROM read_csv_auto('{puenkt_csv}');\"\n",
    "    copy_table = f\"COPY qdaba.puenkt FROM '{puenkt_csv}' WITH (FORMAT CSV);\"\n",
    "    conn.execute(create_schema)\n",
    "    conn.execute(create_table)\n",
    "    result = conn.execute(copy_table)\n",
    "    print(result.fetchall())"
   ],
   "id": "1a3afc49262d3608",
   "outputs": [
    {
     "name": "stdout",
     "output_type": "stream",
     "text": [
      "[(50000,)]\n"
     ]
    }
   ],
   "execution_count": 84
  },
  {
   "metadata": {},
   "cell_type": "markdown",
   "source": "### Cassandra",
   "id": "7ab7f656959ad864"
  },
  {
   "metadata": {},
   "cell_type": "markdown",
   "source": "#### Connect to Cassandra Database",
   "id": "2d9294376b94efc2"
  },
  {
   "metadata": {
    "ExecuteTime": {
     "end_time": "2024-12-12T15:35:54.942750Z",
     "start_time": "2024-12-12T15:35:49.881530Z"
    }
   },
   "cell_type": "code",
   "source": [
    "CASSANDRA_CONFIG = {\n",
    "    'host': os.getenv('CASSANDRA_HOST'),\n",
    "    'port': int(os.getenv('CASSANDRA_PORT')),\n",
    "    'keyspace': os.getenv('CASSANDRA_KEYSPACE'),\n",
    "    'username': os.getenv('CASSANDRA_USERNAME'),\n",
    "    'password': os.getenv('CASSANDRA_PASSWORD')\n",
    "}\n",
    "\n",
    "cassandra = Database(CASSANDRA_CONFIG, 'cassandra')\n",
    "cassandra.connect()\n",
    "ccconn = cassandra.session"
   ],
   "id": "b169a2dba094e6c2",
   "outputs": [
    {
     "name": "stdout",
     "output_type": "stream",
     "text": [
      "Connected to Cassandra\n"
     ]
    }
   ],
   "execution_count": 68
  },
  {
   "metadata": {},
   "cell_type": "markdown",
   "source": "#### Load Data into Cassandra",
   "id": "f9e6b4a8cfd2fec8"
  },
  {
   "metadata": {
    "ExecuteTime": {
     "end_time": "2024-12-12T15:48:52.314968Z",
     "start_time": "2024-12-12T15:35:54.950264Z"
    }
   },
   "cell_type": "code",
   "source": [
    "# This is too slow, have to do it in another way 12m 57s for 50.000 rows.\n",
    "ddl_file_path = './data/cassandra_puenkt_ddl.sql'\n",
    "\n",
    "with ccconn as conn:\n",
    "    with open(ddl_file_path, 'r') as file:\n",
    "        ddl_statements = file.read()\n",
    "        conn.execute(ddl_statements)\n",
    "\n",
    "    data = pd.read_csv(puenkt_csv, dtype={'id_anwendungsfall': str, 'id_fahrt_tu': str, 'id_verspcode': str, 'id_fahrt': str})\n",
    "    insert_query = (f\"INSERT INTO puenkt(\"\n",
    "                    f\"id_t_puenkt, id_linie_tu, id_fahrt, betriebstag, fahrt_halt_lauf, go_nr, id_an_ab, id_anwendungsfall, id_fahrt_tu, id_messpunkt, id_mvu, id_t_import, id_t_linie_bav, id_t_puenkt_fahrt, id_verspcode, insert_time, ist_tu, manipulation_time, qrelevant, soll_bav, soll_tu) \"\n",
    "                    f\"VALUES (\"\n",
    "                    f\"%s, %s, %s, %s, %s, %s, %s, %s, %s, %s, %s, %s, %s, %s, %s, %s, %s, %s, %s, %s, %s)\")\n",
    "\n",
    "    for index, row in data.iterrows():\n",
    "        # Replace NaN or null strings with None for Cassandra\n",
    "        row['id_verspcode'] = row['id_verspcode'] if pd.notna(row['id_verspcode']) else None\n",
    "        row['manipulation_time'] = row['manipulation_time'] if pd.notna(row['manipulation_time']) else None\n",
    "\n",
    "        conn.execute(insert_query, (\n",
    "                row['id_t_puenkt'],\n",
    "                row['id_linie_tu'],\n",
    "                row['id_fahrt'],\n",
    "                row['betriebstag'],\n",
    "                row['fahrt_halt_lauf'],\n",
    "                row['go_nr'],\n",
    "                row['id_an_ab'],\n",
    "                row['id_anwendungsfall'],\n",
    "                row['id_fahrt_tu'],\n",
    "                row['id_messpunkt'],\n",
    "                row['id_mvu'],\n",
    "                row['id_t_import'],\n",
    "                row['id_t_linie_bav'],\n",
    "                row['id_t_puenkt_fahrt'],\n",
    "                row['id_verspcode'],\n",
    "                row['insert_time'],\n",
    "                row['ist_tu'],\n",
    "                row['manipulation_time'],\n",
    "                row['qrelevant'],\n",
    "                row['soll_bav'],\n",
    "                row['soll_tu']\n",
    "            )\n",
    "        )\n",
    "\n",
    "    print(\"Data loaded into Cassandra\")\n"
   ],
   "id": "6c3ac612eb7745dd",
   "outputs": [
    {
     "name": "stdout",
     "output_type": "stream",
     "text": [
      "Data loaded into Cassandra\n"
     ]
    }
   ],
   "execution_count": 69
  },
  {
   "metadata": {
    "ExecuteTime": {
     "end_time": "2024-12-12T15:48:52.406630Z",
     "start_time": "2024-12-12T15:48:52.390796Z"
    }
   },
   "cell_type": "code",
   "source": "",
   "id": "2de7b7c797e988b8",
   "outputs": [],
   "execution_count": null
  }
 ],
 "metadata": {
  "kernelspec": {
   "name": "python3",
   "language": "python",
   "display_name": "Python 3 (ipykernel)"
  }
 },
 "nbformat": 5,
 "nbformat_minor": 9
}
